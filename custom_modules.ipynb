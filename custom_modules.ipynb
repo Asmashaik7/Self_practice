{
 "cells": [
  {
   "cell_type": "code",
   "execution_count": 1,
   "id": "26dfa470-defb-4356-967a-b6501fec2a47",
   "metadata": {},
   "outputs": [],
   "source": [
    "#Creating & Using Custom Modules"
   ]
  },
  {
   "cell_type": "code",
   "execution_count": 2,
   "id": "5f0800e0-fb32-47d3-8928-004b21352de2",
   "metadata": {},
   "outputs": [],
   "source": [
    "# What is a Module?  \n",
    "#A module is just a .py file containing functions, variables, or classes you can reuse across other files.\n",
    "\n",
    "#✅ Why Use Modules?  \n",
    "#* Reuse code  \n",
    "#* Keep things organized  \n",
    "#* Avoid repetition  \n",
    "#* Easier to debug and collaborate  \n",
    "\n",
    "#📁 Example: Create a Custom Module  \n",
    "#🗂️ mymath.py  \n",
    "#python  \n",
    "# def add(a, b):  \n",
    "#     return a + b  \n",
    "\n",
    "# def square(x):  \n",
    "#     return x ** 2  \n",
    "\n",
    "# 🗂️ main.py  \n",
    "# python  \n",
    "# import mymath  \n",
    "\n",
    "# print(mymath.add(2, 3))      # Output: 5  \n",
    "# print(mymath.square(4))      # Output: 16  \n",
    "  \n",
    "# 🧠 Using from Keyword:  \n",
    "# python  \n",
    "# from mymath import add  \n",
    "\n",
    "# print(add(10, 5))  "
   ]
  },
  {
   "cell_type": "code",
   "execution_count": 9,
   "id": "946aa381-e98b-487b-8e6d-fcf4e78cba2f",
   "metadata": {},
   "outputs": [
    {
     "ename": "NameError",
     "evalue": "name 'mymathmodule' is not defined",
     "output_type": "error",
     "traceback": [
      "\u001b[31m---------------------------------------------------------------------------\u001b[39m",
      "\u001b[31mNameError\u001b[39m                                 Traceback (most recent call last)",
      "\u001b[36mCell\u001b[39m\u001b[36m \u001b[39m\u001b[32mIn[9]\u001b[39m\u001b[32m, line 1\u001b[39m\n\u001b[32m----> \u001b[39m\u001b[32m1\u001b[39m \u001b[43mmymathmodule\u001b[49m.py \u001b[38;5;66;03m#Creating a Custom Module\u001b[39;00m\n\u001b[32m      2\u001b[39m python\n\u001b[32m      3\u001b[39m \u001b[38;5;28;01mdef\u001b[39;00m\u001b[38;5;250m \u001b[39m\u001b[34madd\u001b[39m(a,b):\n",
      "\u001b[31mNameError\u001b[39m: name 'mymathmodule' is not defined"
     ]
    }
   ],
   "source": [
    "mymathmodule.py #Creating a Custom Module\n",
    "python\n",
    "def add(a,b):\n",
    "    return a+b\n",
    "\n",
    "def square(x):\n",
    "    return x**2\n",
    "\n",
    "def cube(y):\n",
    "    return y**3\n",
    "#calling custom module in another function\n",
    "\n"
   ]
  },
  {
   "cell_type": "code",
   "execution_count": 11,
   "id": "83f88b8d-2040-4e2c-b05e-531593de173c",
   "metadata": {},
   "outputs": [
    {
     "ename": "NameError",
     "evalue": "name 'main' is not defined",
     "output_type": "error",
     "traceback": [
      "\u001b[31m---------------------------------------------------------------------------\u001b[39m",
      "\u001b[31mNameError\u001b[39m                                 Traceback (most recent call last)",
      "\u001b[36mCell\u001b[39m\u001b[36m \u001b[39m\u001b[32mIn[11]\u001b[39m\u001b[32m, line 1\u001b[39m\n\u001b[32m----> \u001b[39m\u001b[32m1\u001b[39m \u001b[43mmain\u001b[49m.py\n\u001b[32m      2\u001b[39m python\n\u001b[32m      3\u001b[39m \u001b[38;5;28;01mimport\u001b[39;00m\u001b[38;5;250m \u001b[39m\u001b[34;01mimportlib\u001b[39;00m\n",
      "\u001b[31mNameError\u001b[39m: name 'main' is not defined"
     ]
    }
   ],
   "source": [
    "main.py\n",
    "python\n",
    "import importlib\n",
    "import mymathmodule\n",
    "importlib.reload(mymathmodule)  # Reload if you've updated the file\n",
    "\n",
    "print(\"addition of 2 numbers:\",mymathmodule.add(234,456))\n",
    "print(\"square of a number:\",mymathmodule.square(23))\n",
    "print(\"cube of a number:\",mymathmodule.cube(30))"
   ]
  },
  {
   "cell_type": "code",
   "execution_count": 12,
   "id": "e7a9b2fe-ccf8-413e-a34b-c329657f9c49",
   "metadata": {},
   "outputs": [],
   "source": [
    "#Jupyter Notebook doesn’t treat code cells like real .py files — so when you define a module (like mymathmodule.py) in a cell, \n",
    "#it’s not actually saved as a separate file unless you explicitly save it."
   ]
  },
  {
   "cell_type": "code",
   "execution_count": 13,
   "id": "1771476d-eabc-4c0e-a350-baf33cf99325",
   "metadata": {},
   "outputs": [],
   "source": [
    "#How to Fix It — Step-by-Step\n",
    "#🔧 Step 1: Save your custom module code to a .py file"
   ]
  },
  {
   "cell_type": "code",
   "execution_count": 26,
   "id": "c98f24c5-d516-4e59-a657-8bf6ebf70f53",
   "metadata": {},
   "outputs": [],
   "source": [
    "with open(\"mymathmodule.py\",'w') as file:\n",
    "    file.write( \"\"\"\n",
    "def add(a,b):\n",
    "    return a+b\n",
    "\n",
    "def square(x):\n",
    "    return x**2\n",
    "\n",
    "def cube(y):\n",
    "    return y**3 \"\"\")"
   ]
  },
  {
   "cell_type": "code",
   "execution_count": 27,
   "id": "8295c7c0-41a8-4f6b-a0ad-adcb5b7ac128",
   "metadata": {},
   "outputs": [
    {
     "name": "stdout",
     "output_type": "stream",
     "text": [
      "addition of 2 numbers: 690\n",
      "square of a number: 529\n",
      "cube of a number: 27000\n"
     ]
    }
   ],
   "source": [
    "import importlib\n",
    "import mymathmodule\n",
    "#importlib.reload(mymathmodule)  # Reload if you've updated the file\n",
    "\n",
    "print(\"addition of 2 numbers:\",mymathmodule.add(234,456))\n",
    "print(\"square of a number:\",mymathmodule.square(23))\n",
    "print(\"cube of a number:\",mymathmodule.cube(30))"
   ]
  },
  {
   "cell_type": "code",
   "execution_count": null,
   "id": "3385bbbd-11e9-4e9f-8312-5308a93b0c36",
   "metadata": {},
   "outputs": [],
   "source": []
  }
 ],
 "metadata": {
  "kernelspec": {
   "display_name": "Python 3 (ipykernel)",
   "language": "python",
   "name": "python3"
  },
  "language_info": {
   "codemirror_mode": {
    "name": "ipython",
    "version": 3
   },
   "file_extension": ".py",
   "mimetype": "text/x-python",
   "name": "python",
   "nbconvert_exporter": "python",
   "pygments_lexer": "ipython3",
   "version": "3.13.3"
  }
 },
 "nbformat": 4,
 "nbformat_minor": 5
}
