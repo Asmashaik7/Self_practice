{
 "cells": [
  {
   "cell_type": "code",
   "execution_count": null,
   "id": "d718ab21-6db3-44e3-8f9a-ae6b766d8ca5",
   "metadata": {},
   "outputs": [],
   "source": [
    "# enumerate- enumerate() function adds a counter to each item in a list or other iterable.\n",
    "# It turns the iterable into something we can loop through, where each item comes with its number (starting from 0 by default). \n",
    "#We can also turn it into a list of (number, item) pairs using list().\n",
    "# Syntax: enumerate(iterable, start=0) "
   ]
  },
  {
   "cell_type": "code",
   "execution_count": 1,
   "id": "d73ac02f-5092-48fc-a048-cfcd73fd350e",
   "metadata": {},
   "outputs": [
    {
     "name": "stdout",
     "output_type": "stream",
     "text": [
      "Index 0: Geeks\n",
      "Index 1: for\n",
      "Index 2: Geeks\n",
      "[(0, 'Geeks'), (1, 'for'), (2, 'Geeks')]\n"
     ]
    }
   ],
   "source": [
    "a = [\"Geeks\", \"for\", \"Geeks\"]\n",
    "\n",
    "# Iterating list using enumerate to get both index and element\n",
    "for i, name in enumerate(a):\n",
    "    print(f\"Index {i}: {name}\")\n",
    "\n",
    "# Converting to a list of tuples\n",
    "print(list(enumerate(a)))"
   ]
  },
  {
   "cell_type": "code",
   "execution_count": 1,
   "id": "da9f4c0f-28b4-4cdc-85f9-aa38dbd759cd",
   "metadata": {},
   "outputs": [],
   "source": [
    "#Parameters:\n",
    "#Iterable: any object that supports iteration\n",
    "#Start: the index value from which the counter is to be started, by default it is 0\n",
    "#Return:\n",
    "#Returns an iterator with index and element pairs from the original iterable"
   ]
  },
  {
   "cell_type": "code",
   "execution_count": 2,
   "id": "106fd7e3-5aec-4b7f-a027-6102e6a8ce7b",
   "metadata": {},
   "outputs": [],
   "source": [
    "#Using a Custom Start Index\n",
    "#By using enumrate() starts indexing from 0, we can customize this using the start parameter. if want the index to begin at value other than 0."
   ]
  },
  {
   "cell_type": "code",
   "execution_count": 3,
   "id": "133c3854-fec0-496d-bdab-878e704a9af9",
   "metadata": {},
   "outputs": [
    {
     "name": "stdout",
     "output_type": "stream",
     "text": [
      "1 geeks\n",
      "2 for\n",
      "3 geeks\n"
     ]
    }
   ],
   "source": [
    "a = [\"geeks\", \"for\", \"geeks\"]\n",
    "\n",
    "#Looping through the list using enumerate\n",
    "# starting the index from 1\n",
    "for index, x in enumerate(a, start=1):\n",
    "    print(index, x)"
   ]
  },
  {
   "cell_type": "code",
   "execution_count": null,
   "id": "16c90828-b13d-4650-bb9c-0654b12debb0",
   "metadata": {},
   "outputs": [],
   "source": []
  }
 ],
 "metadata": {
  "kernelspec": {
   "display_name": "Python 3 (ipykernel)",
   "language": "python",
   "name": "python3"
  },
  "language_info": {
   "codemirror_mode": {
    "name": "ipython",
    "version": 3
   },
   "file_extension": ".py",
   "mimetype": "text/x-python",
   "name": "python",
   "nbconvert_exporter": "python",
   "pygments_lexer": "ipython3",
   "version": "3.13.3"
  }
 },
 "nbformat": 4,
 "nbformat_minor": 5
}
