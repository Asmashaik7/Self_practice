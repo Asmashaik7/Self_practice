{
 "cells": [
  {
   "cell_type": "code",
   "execution_count": 1,
   "id": "d71e9569-b6af-4c9b-8844-57c8b8f47b33",
   "metadata": {},
   "outputs": [],
   "source": [
    "# to print a square with symbols*"
   ]
  },
  {
   "cell_type": "code",
   "execution_count": 30,
   "id": "53b160ea-69d2-47cd-b19c-6adb13f7e3f8",
   "metadata": {},
   "outputs": [
    {
     "name": "stdin",
     "output_type": "stream",
     "text": [
      "enter a range for square:  5\n"
     ]
    },
    {
     "name": "stdout",
     "output_type": "stream",
     "text": [
      "#  #  #  #  #   \n",
      "#  #  #  #  #   \n",
      "#  #  #  #  #   \n",
      "#  #  #  #  #   \n",
      "#  #  #  #  #   \n"
     ]
    }
   ],
   "source": [
    "# to print a square with symbols*\n",
    "n=int(input(\"enter a range for square: \"))\n",
    "for i in range(n):\n",
    "    for j in range(n):\n",
    "        print(\"#\",end=\"  \")#double spaces for square structure, else it seems like rectangle\n",
    "    print(\" \")"
   ]
  },
  {
   "cell_type": "code",
   "execution_count": 31,
   "id": "1b7761a2-937a-419e-a581-d2b74854354a",
   "metadata": {},
   "outputs": [
    {
     "name": "stdin",
     "output_type": "stream",
     "text": [
      "enter a range for triangle:  5\n"
     ]
    },
    {
     "name": "stdout",
     "output_type": "stream",
     "text": [
      "*  \n",
      "* *  \n",
      "* * *  \n",
      "* * * *  \n",
      "* * * * *  \n"
     ]
    }
   ],
   "source": [
    "# to print a left side right angled triangle with symbols*\n",
    "n=int(input(\"enter a range for triangle: \"))\n",
    "for i in range(0,n): #outer loop for rows\n",
    "    for j in range(i+1):# inner loop for columns. i increments and stars also increments in columns\n",
    "        print(\"*\",end=\" \")\n",
    "    print(\" \")\n",
    "#increasing triangle logic is (i+1) in range\n",
    "#decreasing traingle logic is (i,n) in range"
   ]
  },
  {
   "cell_type": "code",
   "execution_count": 32,
   "id": "55fe0d77-2cbf-4402-b2f5-1ab965d87e00",
   "metadata": {},
   "outputs": [
    {
     "name": "stdin",
     "output_type": "stream",
     "text": [
      "enter a range for triangle:  5\n"
     ]
    },
    {
     "name": "stdout",
     "output_type": "stream",
     "text": [
      "          * \n",
      "        * * \n",
      "      * * * \n",
      "    * * * * \n",
      "  * * * * * \n"
     ]
    }
   ],
   "source": [
    "# to print a right side right angled triangle with symbols*\n",
    "#here we have two traingles, one is decreasing triangle with spaces and other is increasing triangle with symbols\n",
    "#we have to use 2 loops for 2 triangles\n",
    "#one loop for row increment\n",
    "\n",
    "n=int(input(\"enter a range for triangle: \"))\n",
    "for i in range(n): # loop for row increment\n",
    "    for j in range(i,n): #decreasing triangle with spaces\n",
    "        print(\" \",end=\" \") \n",
    "    for k in range(i+1):#increasing triangle with symbols\n",
    "            print(\"*\",end=\" \")\n",
    "    print(\"\")"
   ]
  },
  {
   "cell_type": "code",
   "execution_count": 34,
   "id": "5c123539-0f13-4b94-9f71-0758ab8eaaa6",
   "metadata": {},
   "outputs": [
    {
     "name": "stdin",
     "output_type": "stream",
     "text": [
      "enter a range for triangle:  5\n"
     ]
    },
    {
     "name": "stdout",
     "output_type": "stream",
     "text": [
      "* * * * * \n",
      "* * * * \n",
      "* * * \n",
      "* * \n",
      "* \n"
     ]
    }
   ],
   "source": [
    "# to print a top_left side right angled triangle with symbols*\n",
    "n=int(input(\"enter a range for triangle: \"))\n",
    "for i in range(n): # loop for row \n",
    "    for j in range(i,n): #decreasing triangle with symbols\n",
    "        print(\"*\",end=\" \") \n",
    "    print(\"\")"
   ]
  },
  {
   "cell_type": "code",
   "execution_count": 37,
   "id": "debbf9a4-7093-46a9-b78d-cfe243968630",
   "metadata": {},
   "outputs": [
    {
     "name": "stdin",
     "output_type": "stream",
     "text": [
      "enter a range for triangle:  5\n"
     ]
    },
    {
     "name": "stdout",
     "output_type": "stream",
     "text": [
      "  * * * * * \n",
      "    * * * * \n",
      "      * * * \n",
      "        * * \n",
      "          * \n"
     ]
    }
   ],
   "source": [
    "# to print a top_right side right angled triangle with symbols*\n",
    "#here we have two traingles, first one is increasing triangle with spaces and other is decreasing triangle with symbols\n",
    "n=int(input(\"enter a range for triangle: \"))\n",
    "for i in range(n): # loop for row \n",
    "    for j in range(i+1):#increasing triangle with spaces\n",
    "            print(\" \",end=\" \")\n",
    "    for j in range(i,n): #decreasing triangle with symbols\n",
    "        print(\"*\",end=\" \") \n",
    "    print(\"\")"
   ]
  },
  {
   "cell_type": "code",
   "execution_count": 54,
   "id": "87f565ce-b73a-4ac1-9f42-29c865d45697",
   "metadata": {},
   "outputs": [
    {
     "name": "stdin",
     "output_type": "stream",
     "text": [
      "enter a range for triangle:  5\n"
     ]
    },
    {
     "name": "stdout",
     "output_type": "stream",
     "text": [
      "          * \n",
      "        * * * \n",
      "      * * * * * \n",
      "    * * * * * * * \n",
      "  * * * * * * * * * \n"
     ]
    }
   ],
   "source": [
    "# to print a hill pattern with symbols*\n",
    "n=int(input(\"enter a range for triangle: \"))\n",
    "for i in range(n): # loop for row \n",
    "    for j in range(i,n): #decreasing triangle with spaces\n",
    "        print(\" \",end=\" \")\n",
    "    for j in range(i):#increasing triangle with symbols, here range(i), but not i+1\n",
    "            print(\"*\",end=\" \")\n",
    "    for j in range(i+1): #decreasing triangle with symbols\n",
    "        print(\"*\",end=\" \")\n",
    "    print(\"\")\n",
    "\n",
    "        "
   ]
  },
  {
   "cell_type": "code",
   "execution_count": 61,
   "id": "94cc7a61-a576-4977-bad2-fe80315eec79",
   "metadata": {},
   "outputs": [
    {
     "name": "stdin",
     "output_type": "stream",
     "text": [
      "enter a range for triangle:  5\n"
     ]
    },
    {
     "name": "stdout",
     "output_type": "stream",
     "text": [
      "  * * * * * * * * * \n",
      "    * * * * * * * \n",
      "      * * * * * \n",
      "        * * * \n",
      "          * \n"
     ]
    }
   ],
   "source": [
    "# to print a upside down hill pattern with symbols*\n",
    "n=int(input(\"enter a range for triangle: \"))\n",
    "for i in range(n): # loop for row\n",
    "    for j in range(i+1):#increasing triangle with spaces\n",
    "            print(\" \",end=\" \")\n",
    "        \n",
    "    for j in range(i,n-1): #increasing triangle with symbols\n",
    "        print(\"*\",end=\" \")\n",
    "        \n",
    "    for j in range(i,n): #decreasing triangle with symbols\n",
    "        print(\"*\",end=\" \")\n",
    "\n",
    "    print(\"\")\n",
    "    "
   ]
  },
  {
   "cell_type": "code",
   "execution_count": 66,
   "id": "22168234-6e97-438a-a4d8-cc6883195898",
   "metadata": {},
   "outputs": [
    {
     "name": "stdin",
     "output_type": "stream",
     "text": [
      "enter a range for triangle:  10\n"
     ]
    },
    {
     "name": "stdout",
     "output_type": "stream",
     "text": [
      "                    * \n",
      "                  * * * \n",
      "                * * * * * \n",
      "              * * * * * * * \n",
      "            * * * * * * * * * \n",
      "          * * * * * * * * * * * \n",
      "        * * * * * * * * * * * * * \n",
      "      * * * * * * * * * * * * * * * \n",
      "    * * * * * * * * * * * * * * * * * \n",
      "  * * * * * * * * * * * * * * * * * * * \n",
      "    * * * * * * * * * * * * * * * * * \n",
      "      * * * * * * * * * * * * * * * \n",
      "        * * * * * * * * * * * * * \n",
      "          * * * * * * * * * * * \n",
      "            * * * * * * * * * \n",
      "              * * * * * * * \n",
      "                * * * * * \n",
      "                  * * * \n",
      "                    * \n"
     ]
    }
   ],
   "source": [
    "# to print a diamond pattern with symbols* Copy paste uphill and down hill pattern one after another\n",
    "#here we need a less column in a down hill or up hill, so n-1 in either uphill code or down hill code\n",
    "\n",
    "n=int(input(\"enter a range for triangle: \"))\n",
    "\n",
    "for i in range(n-1): # loop for row \n",
    "    for j in range(i,n): #decreasing triangle with spaces\n",
    "        print(\" \",end=\" \")\n",
    "    for j in range(i):#increasing triangle with symbols, here range(i), but not i+1\n",
    "            print(\"*\",end=\" \")\n",
    "    for j in range(i+1): #decreasing triangle with symbols\n",
    "        print(\"*\",end=\" \")\n",
    "    print(\"\")\n",
    "for i in range(n): # loop for row\n",
    "    for j in range(i+1):#increasing triangle with spaces\n",
    "            print(\" \",end=\" \")\n",
    "        \n",
    "    for j in range(i,n-1): #increasing triangle with symbols\n",
    "        print(\"*\",end=\" \")\n",
    "        \n",
    "    for j in range(i,n): #decreasing triangle with symbols\n",
    "        print(\"*\",end=\" \")\n",
    "\n",
    "    print(\"\")"
   ]
  },
  {
   "cell_type": "code",
   "execution_count": null,
   "id": "8456fdfd-81fc-4224-81c6-296538d4ab63",
   "metadata": {},
   "outputs": [],
   "source": []
  }
 ],
 "metadata": {
  "kernelspec": {
   "display_name": "Python 3 (ipykernel)",
   "language": "python",
   "name": "python3"
  },
  "language_info": {
   "codemirror_mode": {
    "name": "ipython",
    "version": 3
   },
   "file_extension": ".py",
   "mimetype": "text/x-python",
   "name": "python",
   "nbconvert_exporter": "python",
   "pygments_lexer": "ipython3",
   "version": "3.13.3"
  }
 },
 "nbformat": 4,
 "nbformat_minor": 5
}
