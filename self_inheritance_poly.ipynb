{
 "cells": [
  {
   "cell_type": "code",
   "execution_count": 1,
   "id": "85538a45-e714-48d2-89ea-93f9a1788d5a",
   "metadata": {},
   "outputs": [],
   "source": [
    "# What is Inheritance? \n",
    "\n",
    "# Inheritance lets you create a new class (child) that reuses code from an existing class (parent).\n",
    "# This means:\n",
    "# - Less repetition\n",
    "# - Better code organization\n",
    "# - Easy extensions to functionality"
   ]
  },
  {
   "cell_type": "code",
   "execution_count": 2,
   "id": "a36515de-6fa3-47c3-880b-2446488091c1",
   "metadata": {},
   "outputs": [
    {
     "name": "stdout",
     "output_type": "stream",
     "text": [
      "Indu makes woof\n",
      "spa makes meow\n"
     ]
    }
   ],
   "source": [
    "class animal:\n",
    "    def __init__(self,name):\n",
    "        self.name=name\n",
    "\n",
    "    def speak(self):\n",
    "        print(f\"{self.name} makes sound\")\n",
    "\n",
    "class dog(animal):# Dog inherits from Animal\n",
    "    def speak(self):\n",
    "        print(f\"{self.name} makes woof\")\n",
    "            \n",
    "class cat(animal):# Cat inherits from Animal\n",
    "    def speak(self):\n",
    "        print(f\"{self.name} makes meow\")\n",
    "\n",
    "\n",
    "d=dog(\"Indu\")#Using the Subclasses \n",
    "c=cat(\"spa\")\n",
    "\n",
    "d.speak()\n",
    "c.speak()"
   ]
  },
  {
   "cell_type": "code",
   "execution_count": 3,
   "id": "68dd63ef-617d-4e56-9009-9b26b220d2d5",
   "metadata": {},
   "outputs": [],
   "source": [
    "# What is Polymorphism? \n",
    "# Polymorphism means different objects can use the same method name, but behave differently.\n",
    "# In the example above, Dog and Cat both have a speak() method, but each produces a different output."
   ]
  },
  {
   "cell_type": "code",
   "execution_count": 6,
   "id": "2071fee6-519a-475f-865e-7c54e6ea5164",
   "metadata": {},
   "outputs": [
    {
     "name": "stdout",
     "output_type": "stream",
     "text": [
      "Thor swings a sword with strength level 5!\n",
      "Merlin casts a fireball with power level 7!\n"
     ]
    }
   ],
   "source": [
    "class Character:\n",
    "    def __init__(self, name, level):\n",
    "        self.name = name\n",
    "        self.level = level\n",
    "\n",
    "    def attack(self):\n",
    "        print(f\"{self.name} attacks with a basic strike.\")\n",
    "\n",
    "class Warrior(Character):\n",
    "    def attack(self):\n",
    "        print(f\"{self.name} swings a sword with strength level {self.level}!\")\n",
    "\n",
    "class Mage(Character):\n",
    "    def attack(self):\n",
    "        print(f\"{self.name} casts a fireball with power level {self.level}!\")\n",
    "\n",
    "# Usage\n",
    "c1 = Warrior(\"Thor\", 5)\n",
    "c2 = Mage(\"Merlin\", 7)\n",
    "\n",
    "c1.attack()  # Thor swings a sword with strength level 5!\n",
    "c2.attack()  # Merlin casts a fireball with power level 7!\n"
   ]
  },
  {
   "cell_type": "code",
   "execution_count": null,
   "id": "6066d54b-58b9-4c13-931e-18355ed84455",
   "metadata": {},
   "outputs": [],
   "source": []
  }
 ],
 "metadata": {
  "kernelspec": {
   "display_name": "Python 3 (ipykernel)",
   "language": "python",
   "name": "python3"
  },
  "language_info": {
   "codemirror_mode": {
    "name": "ipython",
    "version": 3
   },
   "file_extension": ".py",
   "mimetype": "text/x-python",
   "name": "python",
   "nbconvert_exporter": "python",
   "pygments_lexer": "ipython3",
   "version": "3.13.3"
  }
 },
 "nbformat": 4,
 "nbformat_minor": 5
}
