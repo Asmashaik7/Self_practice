{
 "cells": [
  {
   "cell_type": "code",
   "execution_count": 2,
   "id": "f1b67cea-3ef1-45e4-a299-198e114174da",
   "metadata": {},
   "outputs": [],
   "source": [
    "#self-module utility\n",
    "# Tip: Where to Store It?  \n",
    "# * Place the module .py in the same folder as your script  \n",
    "# * Or add the folder path to PYTHONPATH"
   ]
  },
  {
   "cell_type": "code",
   "execution_count": 20,
   "id": "d937c948-57f7-4cd7-9e1d-3be001a57d5b",
   "metadata": {},
   "outputs": [],
   "source": [
    "with open(\"utilmodule.py\",\"w\")as file:\n",
    "    file.write(\"\"\"\n",
    "def is_even(n):  \n",
    "    return n % 2 == 0  \n",
    "\n",
    "def greet(name):  \n",
    "    return f\"Hello, {name}!\"  \n",
    "    \"\"\")"
   ]
  },
  {
   "cell_type": "code",
   "execution_count": 23,
   "id": "664c6802-81b5-4634-b315-88452a7bed34",
   "metadata": {},
   "outputs": [
    {
     "name": "stdout",
     "output_type": "stream",
     "text": [
      "even: True\n",
      "Hello, Shaik!\n"
     ]
    }
   ],
   "source": [
    "\n",
    "import importlib\n",
    "import utilmodule\n",
    "importlib.reload(utilmodule)\n",
    "print(\"even:\",utilmodule.is_even(44))\n",
    "print(utilmodule.greet(\"Shaik\"))\n",
    "\n"
   ]
  },
  {
   "cell_type": "code",
   "execution_count": null,
   "id": "cc2cfdc3-b39f-413d-9034-8a2e6d0c4ee6",
   "metadata": {},
   "outputs": [],
   "source": []
  }
 ],
 "metadata": {
  "kernelspec": {
   "display_name": "Python 3 (ipykernel)",
   "language": "python",
   "name": "python3"
  },
  "language_info": {
   "codemirror_mode": {
    "name": "ipython",
    "version": 3
   },
   "file_extension": ".py",
   "mimetype": "text/x-python",
   "name": "python",
   "nbconvert_exporter": "python",
   "pygments_lexer": "ipython3",
   "version": "3.13.3"
  }
 },
 "nbformat": 4,
 "nbformat_minor": 5
}
