{
 "cells": [
  {
   "cell_type": "code",
   "execution_count": null,
   "id": "626386c5-35ed-4ae5-bf40-5ccf86bb0293",
   "metadata": {},
   "outputs": [],
   "source": [
    "#Classes & Objects in Python"
   ]
  },
  {
   "cell_type": "code",
   "execution_count": 1,
   "id": "312451b7-464a-4100-9273-94196331abf2",
   "metadata": {},
   "outputs": [],
   "source": [
    "class Person:\n",
    "    def __init__(self, name, age):     # Constructor\n",
    "        self.name = name               # Attribute\n",
    "        self.age = age\n",
    "\n",
    "    def greet(self):                   # Method\n",
    "        print(f\"Hello, I'm {self.name} and I'm {self.age} years old.\")\n"
   ]
  },
  {
   "cell_type": "code",
   "execution_count": 2,
   "id": "03db9aac-d381-43cb-9a2f-450a9d4ec8a5",
   "metadata": {},
   "outputs": [
    {
     "name": "stdout",
     "output_type": "stream",
     "text": [
      "Hello, I'm Alice and I'm 25 years old.\n"
     ]
    }
   ],
   "source": [
    "p1 = Person(\"Alice\", 25)\n",
    "p1.greet()  "
   ]
  },
  {
   "cell_type": "code",
   "execution_count": null,
   "id": "0fd31361-b8e4-4c40-ac13-0c552b066076",
   "metadata": {},
   "outputs": [],
   "source": [
    "#Mini Project: Student Grade Tracker "
   ]
  },
  {
   "cell_type": "code",
   "execution_count": 3,
   "id": "82a5ba50-bbc1-4182-b23d-e9fd1e74d0ee",
   "metadata": {},
   "outputs": [],
   "source": [
    "class Student:\n",
    "    def __init__(self, name):\n",
    "        self.name = name\n",
    "        self.grades = []\n",
    "\n",
    "    def add_grade(self, grade):\n",
    "        self.grades.append(grade)\n",
    "\n",
    "    def average(self):\n",
    "        if self.grades:\n",
    "            return sum(self.grades) / len(self.grades)\n",
    "        return 0\n",
    "\n",
    "    def report(self):\n",
    "        print(f\"{self.name}'s Average Grade: {self.average():.2f}\")"
   ]
  },
  {
   "cell_type": "code",
   "execution_count": 4,
   "id": "b6e6d85a-1c29-43d5-a59c-35e9d60717c5",
   "metadata": {},
   "outputs": [
    {
     "name": "stdout",
     "output_type": "stream",
     "text": [
      "Deepak's Average Grade: 85.00\n"
     ]
    }
   ],
   "source": [
    "# Usage\n",
    "s1 = Student(\"Deepak\")\n",
    "s1.add_grade(85)\n",
    "s1.add_grade(92)\n",
    "s1.add_grade(78)\n",
    "s1.report()"
   ]
  },
  {
   "cell_type": "code",
   "execution_count": null,
   "id": "66a1f153-6917-4533-a21a-246115410c90",
   "metadata": {},
   "outputs": [],
   "source": []
  }
 ],
 "metadata": {
  "kernelspec": {
   "display_name": "Python 3 (ipykernel)",
   "language": "python",
   "name": "python3"
  },
  "language_info": {
   "codemirror_mode": {
    "name": "ipython",
    "version": 3
   },
   "file_extension": ".py",
   "mimetype": "text/x-python",
   "name": "python",
   "nbconvert_exporter": "python",
   "pygments_lexer": "ipython3",
   "version": "3.13.3"
  }
 },
 "nbformat": 4,
 "nbformat_minor": 5
}
