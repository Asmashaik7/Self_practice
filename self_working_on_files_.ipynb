{
 "cells": [
  {
   "cell_type": "code",
   "execution_count": 1,
   "id": "53b18c35-a2c9-4292-960f-4a304e080394",
   "metadata": {},
   "outputs": [],
   "source": [
    "#Day 15: #Python channel:Reading & Writing Files in Python"
   ]
  },
  {
   "cell_type": "code",
   "execution_count": 3,
   "id": "32ebba92-03f9-4823-8e98-fa762056bcc8",
   "metadata": {},
   "outputs": [],
   "source": [
    "#\"\"\"Why Learn File Handling ?\n",
    "\n",
    "#It allows your Python programs to:\n",
    "\n",
    "#- Save user data\n",
    "#- Read logs or configuration files\n",
    "#- Process data stored in .txt, .csv, etc.\n",
    "\n",
    "#✅ Opening a File \n",
    "\n",
    "#file = open(\"example.txt\", \"r\")  # 'r' = read mode\n",
    "#content = file.read()\n",
    "#file.close()\n",
    "\n",
    "#⚠️ Always close the file after opening — or use the safer with keyword ."
   ]
  },
  {
   "cell_type": "code",
   "execution_count": 4,
   "id": "6049e2ae-ed2e-4a31-b1d8-e1e0141a3ee7",
   "metadata": {},
   "outputs": [],
   "source": [
    "#✅ Using \"with\" (Best Practice) \n",
    "\n",
    "# open(\"example.txt\", \"r\") as file:\n",
    "#    content = file.read()\n",
    "#    print(content)\n",
    "\n",
    "#Using \"with\", the file closes automatically after use.\n",
    "\n",
    "#✍️ Writing to a File \n",
    "\n",
    "#with open(\"data.txt\", \"w\") as file:\n",
    "#    file.write(\"Hello, Python!\")\n",
    "\n",
    "#- 'w' mode overwrites the file\n",
    "#- 'a' mode appends to the file\n",
    "\n",
    "\n",
    "#🔄 Reading Line by Line \n",
    "\n",
    "#with open(\"data.txt\", \"r\") as file:\n",
    "#   for line in file:\n",
    "#        print(line.strip())"
   ]
  },
  {
   "cell_type": "code",
   "execution_count": 5,
   "id": "1193cb54-8681-4751-a616-a9485d7b8946",
   "metadata": {},
   "outputs": [],
   "source": [
    "#🔨 Mini Project: Notes Saver \n",
    "\n",
    "#filename = \"notes.txt\"\n",
    "\n",
    "#note = input(\"Write your note: \")\n",
    "\n",
    "#with open(filename, \"a\") as file:\n",
    "#    file.write(note + \"\\n\")\n",
    "\n",
    "#print(\"Note saved to\", filename)\n",
    "\n",
    "#This tiny app lets the user:\n",
    "\n",
    "#- Write notes\n",
    "#- Save them in a .txt file\n",
    "#- Append new notes instead of overwriting"
   ]
  },
  {
   "cell_type": "code",
   "execution_count": 17,
   "id": "65d5f562-7544-4e47-aff9-c21180fefaaa",
   "metadata": {},
   "outputs": [
    {
     "name": "stdin",
     "output_type": "stream",
     "text": [
      "Enter your notes : apple\n"
     ]
    },
    {
     "name": "stdout",
     "output_type": "stream",
     "text": [
      "Note saved to  notes.txt\n",
      "broom\n",
      "electrol\n",
      "mishri\n",
      "kissan jam\n",
      "rasna\n",
      "repairs\n",
      "shampoo\n",
      "asma\n",
      "apple\n",
      "apple\n"
     ]
    }
   ],
   "source": [
    "filename=\"notes.txt\"\n",
    "note=input(\"Enter your notes :\")\n",
    "#append to the new file notes.txt\n",
    "with open(filename,\"a\") as file:\n",
    "    file.write(note+ \"\\n\")\n",
    "print(\"Note saved to \",filename)\n",
    "\n",
    "\n",
    "#open a file to print each note \n",
    "with open(filename,\"r\") as file:\n",
    "    for each in file:\n",
    "        print(each.strip())"
   ]
  },
  {
   "cell_type": "code",
   "execution_count": null,
   "id": "8232c16a-c7f0-4643-b023-d7ad8ef82a83",
   "metadata": {},
   "outputs": [],
   "source": []
  }
 ],
 "metadata": {
  "kernelspec": {
   "display_name": "Python 3 (ipykernel)",
   "language": "python",
   "name": "python3"
  },
  "language_info": {
   "codemirror_mode": {
    "name": "ipython",
    "version": 3
   },
   "file_extension": ".py",
   "mimetype": "text/x-python",
   "name": "python",
   "nbconvert_exporter": "python",
   "pygments_lexer": "ipython3",
   "version": "3.13.3"
  }
 },
 "nbformat": 4,
 "nbformat_minor": 5
}
