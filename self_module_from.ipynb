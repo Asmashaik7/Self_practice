{
 "cells": [
  {
   "cell_type": "code",
   "execution_count": 2,
   "id": "f1b67cea-3ef1-45e4-a299-198e114174da",
   "metadata": {},
   "outputs": [],
   "source": [
    "#self-module utility\n",
    "# Tip: Where to Store It?  \n",
    "# * Place the module .py in the same folder as your script  \n",
    "# * Or add the folder path to PYTHONPATH"
   ]
  },
  {
   "cell_type": "code",
   "execution_count": 4,
   "id": "d937c948-57f7-4cd7-9e1d-3be001a57d5b",
   "metadata": {},
   "outputs": [],
   "source": [
    "with open(\"utilmodule.py\",\"w\")as file:\n",
    "    file.write(\"\"\"\n",
    "def is_even(n):  \n",
    "    return n % 2 == 0  \n",
    "\n",
    "def greet(name):  \n",
    "    return f\"Hello, {name}!\"  \n",
    "    \"\"\")"
   ]
  },
  {
   "cell_type": "code",
   "execution_count": 6,
   "id": "664c6802-81b5-4634-b315-88452a7bed34",
   "metadata": {},
   "outputs": [
    {
     "name": "stdout",
     "output_type": "stream",
     "text": [
      "even: True\n",
      "Hello, Shaik!\n"
     ]
    }
   ],
   "source": [
    "\n",
    "import importlib\n",
    "from utilmodule import is_even,greet\n",
    "print(\"even:\",is_even(44))\n",
    "print(greet(\"Shaik\"))\n",
    "\n"
   ]
  },
  {
   "cell_type": "code",
   "execution_count": 1,
   "id": "cc2cfdc3-b39f-413d-9034-8a2e6d0c4ee6",
   "metadata": {},
   "outputs": [],
   "source": [
    "# When to Use Which?\n",
    "# ✅ Use from module import func when:\n",
    "\n",
    "# You’re only using 1–2 specific functions\n",
    "\n",
    "# You want clean, short code\n",
    "\n",
    "# ✅ Use import module when:\n",
    "\n",
    "# You're using many functions from a module\n",
    "\n",
    "# You want to avoid conflicts\n",
    "\n",
    "# You want your code to be more readable and traceable"
   ]
  },
  {
   "cell_type": "code",
   "execution_count": 2,
   "id": "f9b1628b-aec4-4c26-9fae-60517dd7275f",
   "metadata": {},
   "outputs": [],
   "source": [
    "# from math import sqrt\n",
    "# print(sqrt(25))\n",
    "# Advantage:\n",
    "\n",
    "# You can call sqrt(25) directly, without prefixing math.\n",
    "\n",
    "# Code is cleaner and shorter when using only a few functions"
   ]
  },
  {
   "cell_type": "code",
   "execution_count": null,
   "id": "fb74b168-3381-4a6b-a019-2a7671993b07",
   "metadata": {},
   "outputs": [],
   "source": [
    "# import math\n",
    "# print(math.sqrt(25))\n",
    "# ✅ Advantage:\n",
    "\n",
    "# Prevents naming conflicts (e.g., if you have your own sqrt function)\n",
    "\n",
    "# Makes it clear where the function came from\n",
    "\n",
    "# 🧠 When to Use Which?\n",
    "# ✅ Use from module import func when:\n",
    "\n",
    "# You’re only using 1–2 specific functions\n",
    "\n",
    "# You want clean, short code\n",
    "\n",
    "# ✅ Use import module when:\n",
    "\n",
    "# You're using many functions from a module\n",
    "\n",
    "# You want to avoid conflicts\n",
    "\n",
    "# You want your code to be more readable and traceable"
   ]
  }
 ],
 "metadata": {
  "kernelspec": {
   "display_name": "Python 3 (ipykernel)",
   "language": "python",
   "name": "python3"
  },
  "language_info": {
   "codemirror_mode": {
    "name": "ipython",
    "version": 3
   },
   "file_extension": ".py",
   "mimetype": "text/x-python",
   "name": "python",
   "nbconvert_exporter": "python",
   "pygments_lexer": "ipython3",
   "version": "3.13.3"
  }
 },
 "nbformat": 4,
 "nbformat_minor": 5
}
