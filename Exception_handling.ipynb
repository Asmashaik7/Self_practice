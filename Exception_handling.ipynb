{
 "cells": [
  {
   "cell_type": "code",
   "execution_count": 1,
   "id": "368a549c-35d7-4a0b-a22e-8e4bacc85ec0",
   "metadata": {},
   "outputs": [],
   "source": [
    "#Error handling #30/june/2025\n",
    "#When something unexpected happens -like dividing by zero or reading by a missing file.\n",
    "#python raises an exception, if not handled, your program crashes.."
   ]
  },
  {
   "cell_type": "code",
   "execution_count": null,
   "id": "817c4977-a56f-486a-a759-065e2fc6e4d1",
   "metadata": {},
   "outputs": [],
   "source": [
    "#COMMON EXCEPTIONS\n",
    "#ZeroDivisionError- dividing by zero\n",
    "#ValueError - invalid value(eg: int(\"abc\")\n",
    "#TypeError - wrong data type\n",
    "#FileNotFoundError - file doesn't exist\n",
    "#IndexError - Index out of range"
   ]
  },
  {
   "cell_type": "code",
   "execution_count": 2,
   "id": "6cd84b7e-7d98-4779-872e-e2d69a70d9db",
   "metadata": {},
   "outputs": [],
   "source": [
    "#try:\n",
    "    #risky code\n",
    "#    except someerror:\n",
    "    #handle error"
   ]
  },
  {
   "cell_type": "code",
   "execution_count": 5,
   "id": "57a33051-574f-4c3a-8cae-5a270ea8629e",
   "metadata": {},
   "outputs": [
    {
     "name": "stdin",
     "output_type": "stream",
     "text": [
      "Enter a number:  6\n"
     ]
    },
    {
     "name": "stdout",
     "output_type": "stream",
     "text": [
      "You can't divide by zero\n"
     ]
    }
   ],
   "source": [
    "try:\n",
    "    x=int(input(\"Enter a number: \"))\n",
    "    print(10/0)\n",
    "except ZeroDivisionError:\n",
    "    print(\"You can't divide by zero\")\n",
    "except ValueError:\n",
    "    print(\"Please enter a valid number.\")"
   ]
  },
  {
   "cell_type": "code",
   "execution_count": 6,
   "id": "1f4af377-aee9-4d53-840c-97b8b52361ea",
   "metadata": {},
   "outputs": [
    {
     "ename": "ZeroDivisionError",
     "evalue": "division by zero",
     "output_type": "error",
     "traceback": [
      "\u001b[31m---------------------------------------------------------------------------\u001b[39m",
      "\u001b[31mZeroDivisionError\u001b[39m                         Traceback (most recent call last)",
      "\u001b[36mCell\u001b[39m\u001b[36m \u001b[39m\u001b[32mIn[6]\u001b[39m\u001b[32m, line 3\u001b[39m\n\u001b[32m      1\u001b[39m a = \u001b[32m20\u001b[39m\n\u001b[32m      2\u001b[39m b = \u001b[32m0\u001b[39m\n\u001b[32m----> \u001b[39m\u001b[32m3\u001b[39m \u001b[38;5;28mprint\u001b[39m(\u001b[43ma\u001b[49m\u001b[43m \u001b[49m\u001b[43m/\u001b[49m\u001b[43m \u001b[49m\u001b[43mb\u001b[49m)\n",
      "\u001b[31mZeroDivisionError\u001b[39m: division by zero"
     ]
    }
   ],
   "source": [
    "a = 20\n",
    "b = 0\n",
    "print(a / b)"
   ]
  },
  {
   "cell_type": "code",
   "execution_count": 7,
   "id": "79e157d8-3c40-42f9-bd27-e796fe9169fa",
   "metadata": {},
   "outputs": [
    {
     "name": "stdout",
     "output_type": "stream",
     "text": [
      "3.0\n"
     ]
    }
   ],
   "source": [
    "a = 15.0\n",
    "b = 5.0\n",
    "\n",
    "if b == 0:\n",
    "    print(\"Denominator is zero\")\n",
    "else:\n",
    "    print(a / b)"
   ]
  },
  {
   "cell_type": "code",
   "execution_count": 8,
   "id": "5473c7b1-5cea-4798-89d5-701413796772",
   "metadata": {},
   "outputs": [
    {
     "name": "stdout",
     "output_type": "stream",
     "text": [
      "Denominator is zero\n"
     ]
    }
   ],
   "source": [
    "a = 15.0\n",
    "b = 0\n",
    "\n",
    "if b == 0:\n",
    "    print(\"Denominator is zero\")\n",
    "else:\n",
    "    print(a / b)"
   ]
  },
  {
   "cell_type": "code",
   "execution_count": 12,
   "id": "b0242094-7265-4417-b821-d1106dbec5d9",
   "metadata": {},
   "outputs": [
    {
     "name": "stdout",
     "output_type": "stream",
     "text": [
      "0\n"
     ]
    }
   ],
   "source": [
    "a = 16.0\n",
    "b = 0\n",
    "\n",
    "try:\n",
    "    res = a / b\n",
    "except ZeroDivisionError:\n",
    "    res = 0\n",
    "\n",
    "print(res)"
   ]
  },
  {
   "cell_type": "code",
   "execution_count": 14,
   "id": "aca51776-8f00-42c9-961d-2664f1b68c36",
   "metadata": {},
   "outputs": [],
   "source": [
    "#Handling user input with Python try/except Statement"
   ]
  },
  {
   "cell_type": "code",
   "execution_count": 21,
   "id": "f33e5087-6fad-4992-8751-f7076162eb36",
   "metadata": {},
   "outputs": [
    {
     "name": "stdin",
     "output_type": "stream",
     "text": [
      "Enter 'b' value:  5\n"
     ]
    },
    {
     "name": "stdout",
     "output_type": "stream",
     "text": [
      "c value is: 2.0\n"
     ]
    }
   ],
   "source": [
    "a=10\n",
    "b=int(input(\"Enter 'b' value: \"))\n",
    "try:\n",
    "    c=10/b\n",
    "    print(f'c value is: {c}')\n",
    "except (ZeroDivisionError,ValueError):\n",
    "    print(\"Enter 'b' value more than zero\")"
   ]
  },
  {
   "cell_type": "code",
   "execution_count": 22,
   "id": "4b4a1a25-62b3-46ca-89cf-15e762eeb30f",
   "metadata": {},
   "outputs": [
    {
     "name": "stdin",
     "output_type": "stream",
     "text": [
      "Enter 'b' value:  -4\n"
     ]
    },
    {
     "name": "stdout",
     "output_type": "stream",
     "text": [
      "c value is: -2.5\n"
     ]
    }
   ],
   "source": [
    "a=10\n",
    "b=int(input(\"Enter 'b' value: \"))\n",
    "try:\n",
    "    c=10/b\n",
    "    print(f'c value is: {c}')\n",
    "except (ZeroDivisionError,ValueError):\n",
    "    print(\"Enter 'b' value more than zero\")"
   ]
  },
  {
   "cell_type": "code",
   "execution_count": 36,
   "id": "fa621b19-a02e-4d0d-9054-e3575ccd9dc9",
   "metadata": {},
   "outputs": [
    {
     "name": "stdin",
     "output_type": "stream",
     "text": [
      "Enter 'b' value:  s\n"
     ]
    },
    {
     "ename": "ValueError",
     "evalue": "invalid literal for int() with base 10: 's'",
     "output_type": "error",
     "traceback": [
      "\u001b[31m---------------------------------------------------------------------------\u001b[39m",
      "\u001b[31mValueError\u001b[39m                                Traceback (most recent call last)",
      "\u001b[36mCell\u001b[39m\u001b[36m \u001b[39m\u001b[32mIn[36]\u001b[39m\u001b[32m, line 2\u001b[39m\n\u001b[32m      1\u001b[39m a=\u001b[32m10\u001b[39m\n\u001b[32m----> \u001b[39m\u001b[32m2\u001b[39m b=\u001b[38;5;28;43mint\u001b[39;49m\u001b[43m(\u001b[49m\u001b[38;5;28;43minput\u001b[39;49m\u001b[43m(\u001b[49m\u001b[33;43m\"\u001b[39;49m\u001b[33;43mEnter \u001b[39;49m\u001b[33;43m'\u001b[39;49m\u001b[33;43mb\u001b[39;49m\u001b[33;43m'\u001b[39;49m\u001b[33;43m value: \u001b[39;49m\u001b[33;43m\"\u001b[39;49m\u001b[43m)\u001b[49m\u001b[43m)\u001b[49m\n\u001b[32m      3\u001b[39m \u001b[38;5;28;01mtry\u001b[39;00m:\n\u001b[32m      4\u001b[39m     c= a/b\n",
      "\u001b[31mValueError\u001b[39m: invalid literal for int() with base 10: 's'"
     ]
    }
   ],
   "source": [
    "a=10\n",
    "b=int(input(\"Enter 'b' value: \"))\n",
    "try:\n",
    "    c= a/b\n",
    "    print(f'c value is: {c}')\n",
    "except (ZeroDivisionError, ValueError):\n",
    "    print(\"Enter 'b' value more than zero\")\n",
    "\n",
    "# Its handling ZeroDivisionError, but its giving ValueError like this,instead of handling it..because we are defining b outside try.\n",
    "#if we define it inside try, it will handle it\n",
    "#enter any alphabet-valueerror"
   ]
  },
  {
   "cell_type": "code",
   "execution_count": 37,
   "id": "fccc0fac-2fd2-4676-a183-20f45ef1192d",
   "metadata": {},
   "outputs": [
    {
     "name": "stdin",
     "output_type": "stream",
     "text": [
      "Enter 'b' value:  f\n"
     ]
    },
    {
     "name": "stdout",
     "output_type": "stream",
     "text": [
      "Enter 'b' value more than zero\n"
     ]
    }
   ],
   "source": [
    "a=10\n",
    "\n",
    "try:\n",
    "    b=int(input(\"Enter 'b' value: \"))\n",
    "    c= a/b\n",
    "    print(f'c value is: {c}')\n",
    "except (ZeroDivisionError, ValueError):\n",
    "    print(\"Enter 'b' value more than zero\")\n",
    "\n",
    "# Its handling ZeroDivisionError, but its giving ValueError like this,instead of handling it..because we are defining b outside try.\n",
    "#if we define it inside try, it will handle it"
   ]
  },
  {
   "cell_type": "code",
   "execution_count": 38,
   "id": "189601f3-420f-4efb-b2ee-291f0c2e96a8",
   "metadata": {},
   "outputs": [],
   "source": [
    "# else : runs if no exception was raised\n",
    "# finally : runs no matter what(cleanup code)"
   ]
  },
  {
   "cell_type": "code",
   "execution_count": 39,
   "id": "2a7759f2-5a2e-4191-bc78-cc4f2fab47df",
   "metadata": {},
   "outputs": [
    {
     "name": "stdin",
     "output_type": "stream",
     "text": [
      "Enter 'b' value:  5\n"
     ]
    },
    {
     "name": "stdout",
     "output_type": "stream",
     "text": [
      "c value is: 2.0\n",
      "Done\n"
     ]
    }
   ],
   "source": [
    "a=10\n",
    "\n",
    "try:\n",
    "    b=int(input(\"Enter 'b' value: \"))\n",
    "    c= a/b\n",
    "except (ZeroDivisionError, ValueError):\n",
    "    print(\"Enter 'b' value more than zero\")\n",
    "else:\n",
    "    print(f'c value is: {c}')\n",
    "finally:\n",
    "    print(\"Done\")"
   ]
  },
  {
   "cell_type": "code",
   "execution_count": 43,
   "id": "a733c424-0b89-42af-abd6-6fd58b365cd2",
   "metadata": {},
   "outputs": [
    {
     "name": "stdin",
     "output_type": "stream",
     "text": [
      "Enter 'b' value:  3\n"
     ]
    },
    {
     "name": "stdout",
     "output_type": "stream",
     "text": [
      "square value of 3.3333333333333335 is 6.666666666666667\n",
      "Done\n"
     ]
    }
   ],
   "source": [
    "a=10\n",
    "\n",
    "try:\n",
    "    b=int(input(\"Enter 'b' value: \"))\n",
    "except (ZeroDivisionError, ValueError):\n",
    "    print(\"Enter 'b' value more than zero or enter integer value\")\n",
    "else:\n",
    "    print(f'square value of {c} is {c*2}')\n",
    "finally:\n",
    "    print(\"Done\")"
   ]
  },
  {
   "cell_type": "code",
   "execution_count": 44,
   "id": "da2907f9-cae4-42b5-991f-9d119d933866",
   "metadata": {},
   "outputs": [],
   "source": [
    "#mini project: safe input reader"
   ]
  },
  {
   "cell_type": "code",
   "execution_count": 45,
   "id": "64b4b0c5-dfcd-4b7f-a4f8-29364a339b6d",
   "metadata": {},
   "outputs": [],
   "source": [
    "#A safe input reader is a function or piece of code taht asks user for input - but doesn't crash if the user types something invalid."
   ]
  },
  {
   "cell_type": "code",
   "execution_count": 47,
   "id": "d2f4aae9-1e35-4c15-add7-aefdc3ccc8c6",
   "metadata": {},
   "outputs": [
    {
     "name": "stdin",
     "output_type": "stream",
     "text": [
      "Enter an integer:  a\n"
     ]
    },
    {
     "name": "stdout",
     "output_type": "stream",
     "text": [
      "Thats not a valid integer!!\n"
     ]
    },
    {
     "name": "stdin",
     "output_type": "stream",
     "text": [
      "Enter an integer:  7\n"
     ]
    },
    {
     "name": "stdout",
     "output_type": "stream",
     "text": [
      "You entered:  7\n"
     ]
    }
   ],
   "source": [
    "def get_integer(prompt):\n",
    "    try:\n",
    "        return int(input(prompt))\n",
    "    except ValueError:\n",
    "        print(\"Thats not a valid integer!!\")\n",
    "        return None\n",
    "num=None\n",
    "while num is None:\n",
    "    num=get_integer(\"Enter an integer: \")\n",
    "print(\"You entered: \",num)"
   ]
  },
  {
   "cell_type": "code",
   "execution_count": null,
   "id": "5701bd64-c2f5-4e20-b420-d32461f89719",
   "metadata": {},
   "outputs": [],
   "source": []
  }
 ],
 "metadata": {
  "kernelspec": {
   "display_name": "Python 3 (ipykernel)",
   "language": "python",
   "name": "python3"
  },
  "language_info": {
   "codemirror_mode": {
    "name": "ipython",
    "version": 3
   },
   "file_extension": ".py",
   "mimetype": "text/x-python",
   "name": "python",
   "nbconvert_exporter": "python",
   "pygments_lexer": "ipython3",
   "version": "3.13.3"
  }
 },
 "nbformat": 4,
 "nbformat_minor": 5
}
