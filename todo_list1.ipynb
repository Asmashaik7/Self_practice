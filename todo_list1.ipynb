{
 "cells": [
  {
   "cell_type": "code",
   "execution_count": 1,
   "id": "dad692fc-994f-4d8e-99a3-b44ce5e0fc6e",
   "metadata": {},
   "outputs": [],
   "source": [
    "#python programming channel \n",
    "#Day 14: Mini Project – CLI To-Do List App\n",
    "#A simple Command-Line To-Do List where users can:\n",
    "#- Add tasks\n",
    "#- View tasks\n",
    "#- Remove tasks\n",
    "#- Exit the app safely"
   ]
  },
  {
   "cell_type": "code",
   "execution_count": null,
   "id": "69b2d302-20a5-4743-9544-3b9aa383c9ef",
   "metadata": {},
   "outputs": [
    {
     "name": "stdout",
     "output_type": "stream",
     "text": [
      "To Do list: \n",
      "1.Add tasks\n",
      "2.view tasks\n",
      "3.remove tasks\n",
      "4.exit the app safely\n"
     ]
    },
    {
     "name": "stdin",
     "output_type": "stream",
     "text": [
      "Enter your choice(1-4):  2\n"
     ]
    },
    {
     "name": "stdout",
     "output_type": "stream",
     "text": [
      "Your tasks are:\n",
      "1: fgg\n",
      "2: dfg\n",
      "3: ant\n",
      "4: bat\n",
      "5: call mom\n",
      "To Do list: \n",
      "1.Add tasks\n",
      "2.view tasks\n",
      "3.remove tasks\n",
      "4.exit the app safely\n"
     ]
    },
    {
     "name": "stdin",
     "output_type": "stream",
     "text": [
      "Enter your choice(1-4):  3\n"
     ]
    },
    {
     "name": "stdout",
     "output_type": "stream",
     "text": [
      "Your tasks are:\n",
      "1: fgg\n",
      "2: dfg\n",
      "3: ant\n",
      "4: bat\n",
      "5: call mom\n"
     ]
    },
    {
     "name": "stdin",
     "output_type": "stream",
     "text": [
      "Enter a task number to remove 2\n"
     ]
    },
    {
     "name": "stdout",
     "output_type": "stream",
     "text": [
      "Task removed from the list is: dfg\n",
      "To Do list: \n",
      "1.Add tasks\n",
      "2.view tasks\n",
      "3.remove tasks\n",
      "4.exit the app safely\n"
     ]
    },
    {
     "name": "stdin",
     "output_type": "stream",
     "text": [
      "Enter your choice(1-4):  2\n"
     ]
    },
    {
     "name": "stdout",
     "output_type": "stream",
     "text": [
      "Your tasks are:\n",
      "1: fgg\n",
      "2: ant\n",
      "3: bat\n",
      "4: call mom\n",
      "To Do list: \n",
      "1.Add tasks\n",
      "2.view tasks\n",
      "3.remove tasks\n",
      "4.exit the app safely\n"
     ]
    },
    {
     "name": "stdin",
     "output_type": "stream",
     "text": [
      "Enter your choice(1-4):  1\n",
      "Enter your task make tea, its tea time\n"
     ]
    },
    {
     "name": "stdout",
     "output_type": "stream",
     "text": [
      "Task added to list\n",
      "To Do list: \n",
      "1.Add tasks\n",
      "2.view tasks\n",
      "3.remove tasks\n",
      "4.exit the app safely\n"
     ]
    },
    {
     "name": "stdin",
     "output_type": "stream",
     "text": [
      "Enter your choice(1-4):  2\n"
     ]
    },
    {
     "name": "stdout",
     "output_type": "stream",
     "text": [
      "Your tasks are:\n",
      "1: fgg\n",
      "2: ant\n",
      "3: bat\n",
      "4: call mom\n",
      "5: make tea, its tea time\n",
      "To Do list: \n",
      "1.Add tasks\n",
      "2.view tasks\n",
      "3.remove tasks\n",
      "4.exit the app safely\n"
     ]
    }
   ],
   "source": [
    "todo_list=[]\n",
    "def show_menu():\n",
    "    print(\"To Do list: \")\n",
    "    print(\"1.Add tasks\")\n",
    "    print(\"2.view tasks\")\n",
    "    print(\"3.remove tasks\")\n",
    "    print(\"4.exit the app safely\")\n",
    "    \n",
    "def view_tasks():\n",
    "    if not todo_list:\n",
    "        print(\"No tasks in list yet\")\n",
    "    else:\n",
    "        print(\"Your tasks are:\")\n",
    "        for id_x, tasks in enumerate(todo_list, start=1):\n",
    "            print(f\"{id_x}: {tasks}\")\n",
    "        \n",
    "def add_tasks():\n",
    "    add_task=input(\"Enter your task\")\n",
    "    todo_list.append(add_task)\n",
    "    print(\"Task added to list\")\n",
    "    \n",
    "def remove_tasks():\n",
    "    view_tasks()\n",
    "    try:\n",
    "        remove_task=int(input(\"Enter a task number to remove\"))-1 #as its a list, its index value starts from 0, so -1 is written.\n",
    "        removed_task=todo_list.pop(remove_task)\n",
    "        print(\"Task removed from the list is:\",removed_task)\n",
    "    except:\n",
    "        print(\"Given task not in list\")\n",
    "\n",
    "       \n",
    "while True:\n",
    "    show_menu()\n",
    "    choice=input(\"Enter your choice(1-4): \")\n",
    "    if choice==\"1\":\n",
    "        add_tasks()\n",
    "    elif choice==\"2\":\n",
    "        view_tasks()\n",
    "    elif choice==\"3\":\n",
    "        remove_tasks()\n",
    "    elif choice==\"4\":\n",
    "        print(\"Exit the app..\")\n",
    "        break\n",
    "    else:\n",
    "        print(\"Enter a valid option\")\n",
    "        "
   ]
  },
  {
   "cell_type": "code",
   "execution_count": null,
   "id": "4e64f5ec-35df-4917-a4a0-e9bca4020028",
   "metadata": {},
   "outputs": [],
   "source": []
  }
 ],
 "metadata": {
  "kernelspec": {
   "display_name": "Python 3 (ipykernel)",
   "language": "python",
   "name": "python3"
  },
  "language_info": {
   "codemirror_mode": {
    "name": "ipython",
    "version": 3
   },
   "file_extension": ".py",
   "mimetype": "text/x-python",
   "name": "python",
   "nbconvert_exporter": "python",
   "pygments_lexer": "ipython3",
   "version": "3.13.3"
  }
 },
 "nbformat": 4,
 "nbformat_minor": 5
}
