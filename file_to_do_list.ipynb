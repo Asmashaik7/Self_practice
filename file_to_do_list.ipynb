{
 "cells": [
  {
   "cell_type": "code",
   "execution_count": null,
   "id": "1d0a4c09-13ba-4e67-aacd-b44f522b8745",
   "metadata": {},
   "outputs": [],
   "source": [
    "#python programming channel \n",
    "#Day 14: Mini Project – CLI To-Do List App\n",
    "#A simple Command-Line To-Do List where users can:\n",
    "\n",
    "#- Add tasks\n",
    "\n",
    "#- View tasks\n",
    "\n",
    "#- Remove tasks\n",
    "\n",
    "#- Exit the app safely"
   ]
  },
  {
   "cell_type": "code",
   "execution_count": 1,
   "id": "fb854372-61ce-46de-885a-2634dedd5209",
   "metadata": {},
   "outputs": [],
   "source": [
    "todo_list = []\n",
    "\n",
    "FILENAME = \"tasks.txt\"\n"
   ]
  },
  {
   "cell_type": "code",
   "execution_count": null,
   "id": "72b46b9d-81cc-490b-983f-78ff9daeafd7",
   "metadata": {},
   "outputs": [
    {
     "name": "stdout",
     "output_type": "stream",
     "text": [
      "\n",
      "To Do List Menu:\n",
      "1. Add task\n",
      "2. View tasks\n",
      "3. Remove task\n",
      "4. Exit\n"
     ]
    },
    {
     "name": "stdin",
     "output_type": "stream",
     "text": [
      "Choose an option (1-4):  2\n"
     ]
    },
    {
     "name": "stdout",
     "output_type": "stream",
     "text": [
      "\n",
      "Your Tasks:\n",
      "1. buying books\n",
      "2. shopping for kids\n",
      "3. buying gifts\n",
      "4. go to hyd\n",
      "5. learning \n",
      "6. practicing\n",
      "7. protecting birds\n",
      "8. python and sql\n",
      "9. buying books\n",
      "10. shopping for kids\n",
      "11. buying gifts\n",
      "12. go to hyd\n",
      "13. learning\n",
      "14. practicing\n",
      "15. protecting birds\n",
      "16. python and sql\n",
      "\n",
      "To Do List Menu:\n",
      "1. Add task\n",
      "2. View tasks\n",
      "3. Remove task\n",
      "4. Exit\n"
     ]
    },
    {
     "name": "stdin",
     "output_type": "stream",
     "text": [
      "Choose an option (1-4):  3\n"
     ]
    },
    {
     "name": "stdout",
     "output_type": "stream",
     "text": [
      "\n",
      "Your Tasks:\n",
      "1. buying books\n",
      "2. shopping for kids\n",
      "3. buying gifts\n",
      "4. go to hyd\n",
      "5. learning \n",
      "6. practicing\n",
      "7. protecting birds\n",
      "8. python and sql\n",
      "9. buying books\n",
      "10. shopping for kids\n",
      "11. buying gifts\n",
      "12. go to hyd\n",
      "13. learning\n",
      "14. practicing\n",
      "15. protecting birds\n",
      "16. python and sql\n"
     ]
    },
    {
     "name": "stdin",
     "output_type": "stream",
     "text": [
      "Enter task number to remove:  16\n"
     ]
    },
    {
     "name": "stdout",
     "output_type": "stream",
     "text": [
      "Removed: python and sql\n",
      "\n",
      "To Do List Menu:\n",
      "1. Add task\n",
      "2. View tasks\n",
      "3. Remove task\n",
      "4. Exit\n"
     ]
    },
    {
     "name": "stdin",
     "output_type": "stream",
     "text": [
      "Choose an option (1-4):  2\n"
     ]
    },
    {
     "name": "stdout",
     "output_type": "stream",
     "text": [
      "\n",
      "Your Tasks:\n",
      "1. buying books\n",
      "2. shopping for kids\n",
      "3. buying gifts\n",
      "4. go to hyd\n",
      "5. learning \n",
      "6. practicing\n",
      "7. protecting birds\n",
      "8. python and sql\n",
      "9. buying books\n",
      "10. shopping for kids\n",
      "11. buying gifts\n",
      "12. go to hyd\n",
      "13. learning\n",
      "14. practicing\n",
      "15. protecting birds\n",
      "\n",
      "To Do List Menu:\n",
      "1. Add task\n",
      "2. View tasks\n",
      "3. Remove task\n",
      "4. Exit\n"
     ]
    }
   ],
   "source": [
    "## Load tasks from file\n",
    "def load_tasks():\n",
    "    try:\n",
    "        with open(FILENAME, \"r\") as file:\n",
    "            for each in file:\n",
    "                task = each.strip()\n",
    "                if task:\n",
    "                    todo_list.append(task)\n",
    "    except FileNotFoundError:\n",
    "        pass  # If file doesn't exist, skip\n",
    "        \n",
    "# Save tasks to file\n",
    "def save_tasks():\n",
    "    with open(FILENAME, \"w\") as file:\n",
    "        for task in todo_list:\n",
    "            file.write(task + \"\\n\")\n",
    "\n",
    "def show_menu():\n",
    "    print(\"\\nTo Do List Menu:\")\n",
    "    print(\"1. Add task\")\n",
    "    print(\"2. View tasks\")\n",
    "    print(\"3. Remove task\")\n",
    "    print(\"4. Exit\")\n",
    "\n",
    "def view_tasks():\n",
    "        print(\"\\nYour Tasks:\")\n",
    "        for idx, task in enumerate(todo_list, start=1):\n",
    "            print(f\"{idx}. {task}\")\n",
    "\n",
    "def add_task():\n",
    "    task = input(\"Enter the task: \")\n",
    "    todo_list.append(task)\n",
    "    save_tasks()\n",
    "    print(\"Task added!\")\n",
    "\n",
    "def remove_task():\n",
    "    view_tasks()\n",
    "    try:\n",
    "        index = int(input(\"Enter task number to remove: \")) - 1\n",
    "        removed = todo_list.pop(index)\n",
    "        save_tasks()\n",
    "        print(f\"Removed: {removed}\")\n",
    "    except (ValueError, IndexError):\n",
    "        print(\"Invalid task number.\")\n",
    "\n",
    "# Main program\n",
    "load_tasks()  # Load tasks when app starts\n",
    "\n",
    "while True:\n",
    "    show_menu()\n",
    "    choice = input(\"Choose an option (1-4): \")\n",
    "    \n",
    "    if choice == \"1\":\n",
    "        add_task()\n",
    "    elif choice == \"2\":\n",
    "        view_tasks()\n",
    "    elif choice == \"3\":\n",
    "        remove_task()\n",
    "    elif choice == \"4\":\n",
    "        print(\"Exit the app..!\")\n",
    "        break\n",
    "    else:\n",
    "        print(\"Invalid option. Please choose 1–4.\")"
   ]
  },
  {
   "cell_type": "code",
   "execution_count": null,
   "id": "bbe0f2b5-b75d-4473-8378-196b9e77f5f1",
   "metadata": {},
   "outputs": [],
   "source": []
  }
 ],
 "metadata": {
  "kernelspec": {
   "display_name": "Python 3 (ipykernel)",
   "language": "python",
   "name": "python3"
  },
  "language_info": {
   "codemirror_mode": {
    "name": "ipython",
    "version": 3
   },
   "file_extension": ".py",
   "mimetype": "text/x-python",
   "name": "python",
   "nbconvert_exporter": "python",
   "pygments_lexer": "ipython3",
   "version": "3.13.3"
  }
 },
 "nbformat": 4,
 "nbformat_minor": 5
}
